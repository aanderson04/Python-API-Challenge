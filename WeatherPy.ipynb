{
 "cells": [
  {
   "cell_type": "markdown",
   "metadata": {},
   "source": [
    "# WeatherPy\n",
    "----\n",
    "\n",
    "#### Note\n",
    "* Instructions have been included for each segment. You do not have to follow them exactly, but they are included to help you think through the steps."
   ]
  },
  {
   "cell_type": "code",
   "execution_count": 2,
   "metadata": {
    "scrolled": true
   },
   "outputs": [],
   "source": [
    "# Dependencies and Setup\n",
    "import matplotlib.pyplot as plt\n",
    "import pandas as pd\n",
    "import numpy as np\n",
    "import requests\n",
    "import time\n",
    "from scipy.stats import linregress\n",
    "import json\n",
    "\n",
    "# Import API key\n",
    "from api_keys import weather_api_key\n",
    "\n",
    "# Incorporated citipy to determine city based on latitude and longitude\n",
    "from citipy import citipy\n",
    "\n",
    "# Output File (CSV)\n",
    "output_data_file = \"cities.csv\"\n",
    "\n",
    "# Range of latitudes and longitudes\n",
    "lat_range = (-90, 90)\n",
    "lng_range = (-180, 180)"
   ]
  },
  {
   "cell_type": "markdown",
   "metadata": {},
   "source": [
    "## Generate Cities List"
   ]
  },
  {
   "cell_type": "code",
   "execution_count": 3,
   "metadata": {},
   "outputs": [
    {
     "data": {
      "text/plain": [
       "608"
      ]
     },
     "execution_count": 3,
     "metadata": {},
     "output_type": "execute_result"
    }
   ],
   "source": [
    "# List for holding lat_lngs and cities\n",
    "lat_lngs = []\n",
    "cities = []\n",
    "\n",
    "# Create a set of random lat and lng combinations\n",
    "lats = np.random.uniform(low= -90.000, high= 90.000, size=1500)\n",
    "lngs = np.random.uniform(low= -180.000, high= 180.000, size=1500)\n",
    "lat_lngs = zip(lats, lngs)\n",
    "\n",
    "# Identify nearest city for each lat, lng combination\n",
    "for lat_lng in lat_lngs:\n",
    "    city = citipy.nearest_city(lat_lng[0], lat_lng[1]).city_name\n",
    "    \n",
    "    # If the city is unique, then add it to a our cities list\n",
    "    if city not in cities:\n",
    "        cities.append(city)\n",
    "\n",
    "# Print the city count to confirm sufficient count\n",
    "len(cities)"
   ]
  },
  {
   "cell_type": "markdown",
   "metadata": {},
   "source": [
    "### Perform API Calls\n",
    "* Perform a weather check on each city using a series of successive API calls.\n",
    "* Include a print log of each city as it'sbeing processed (with the city number and city name).\n"
   ]
  },
  {
   "cell_type": "code",
   "execution_count": null,
   "metadata": {},
   "outputs": [],
   "source": []
  },
  {
   "cell_type": "code",
   "execution_count": null,
   "metadata": {},
   "outputs": [],
   "source": []
  },
  {
   "cell_type": "code",
   "execution_count": 5,
   "metadata": {},
   "outputs": [
    {
     "name": "stdout",
     "output_type": "stream",
     "text": [
      "Beginning Data Retrieval\n",
      "------------------------------\n",
      "Processing Record 1 of Set 1 | saskylakh\n",
      "Processing Record 2 of Set 1 | mutoko\n",
      "Processing Record 3 of Set 1 | arraial do cabo\n",
      "Processing Record 4 of Set 1 | baykit\n",
      "Processing Record 5 of Set 1 | narsaq\n",
      "Processing Record 6 of Set 1 | puerto ayora\n",
      "Processing Record 7 of Set 1 | scarborough\n",
      "Processing Record 8 of Set 1 | kampot\n",
      "Processing Record 9 of Set 1 | ushuaia\n",
      "Processing Record 10 of Set 1 | qaanaaq\n",
      "Processing Record 11 of Set 1 | tuktoyaktuk\n",
      "Processing Record 12 of Set 1 | guaduas\n",
      "Processing Record 13 of Set 1 | biharamulo\n",
      "City not found. Skipping...\n",
      "Processing Record 14 of Set 1 | axim\n",
      "Processing Record 15 of Set 1 | amurzet\n",
      "Processing Record 16 of Set 1 | bermeo\n",
      "City not found. Skipping...\n",
      "Processing Record 17 of Set 1 | namibe\n",
      "Processing Record 18 of Set 1 | dikson\n",
      "Processing Record 19 of Set 1 | new norfolk\n",
      "Processing Record 20 of Set 1 | rikitea\n",
      "Processing Record 21 of Set 1 | mahebourg\n",
      "Processing Record 22 of Set 1 | kargil\n",
      "Processing Record 23 of Set 1 | olga\n",
      "Processing Record 24 of Set 1 | mar del plata\n",
      "Processing Record 25 of Set 1 | olafsvik\n",
      "Processing Record 26 of Set 1 | bethel\n",
      "Processing Record 27 of Set 1 | grand gaube\n",
      "Processing Record 28 of Set 1 | albany\n",
      "Processing Record 29 of Set 1 | fortuna\n",
      "Processing Record 30 of Set 1 | barrow\n",
      "Processing Record 31 of Set 1 | nikolskoye\n",
      "Processing Record 32 of Set 1 | wamba\n",
      "Processing Record 33 of Set 1 | lebu\n",
      "Processing Record 34 of Set 1 | seredka\n",
      "City not found. Skipping...\n",
      "Processing Record 35 of Set 1 | contai\n",
      "Processing Record 36 of Set 1 | mataura\n",
      "Processing Record 37 of Set 1 | meulaboh\n",
      "City not found. Skipping...\n",
      "Processing Record 38 of Set 1 | bluff\n",
      "Processing Record 39 of Set 1 | lar\n",
      "Processing Record 40 of Set 1 | hithadhoo\n",
      "Processing Record 41 of Set 1 | jamestown\n",
      "Processing Record 42 of Set 1 | leningradskiy\n",
      "Processing Record 43 of Set 1 | rio gallegos\n",
      "Processing Record 44 of Set 1 | kodinsk\n",
      "Processing Record 45 of Set 1 | caluquembe\n",
      "Processing Record 46 of Set 1 | heihe\n",
      "City not found. Skipping...\n",
      "Processing Record 47 of Set 1 | orotina\n",
      "Processing Record 48 of Set 1 | denpasar\n",
      "Processing Record 49 of Set 1 | saint anthony\n",
      "Processing Record 1 of Set 2 | vaini\n",
      "Processing Record 2 of Set 2 | bambous virieux\n",
      "Processing Record 3 of Set 2 | zhanakorgan\n",
      "Processing Record 4 of Set 2 | nanortalik\n",
      "Processing Record 5 of Set 2 | hobart\n",
      "City not found. Skipping...\n",
      "City not found. Skipping...\n",
      "Processing Record 6 of Set 2 | kandrian\n",
      "Processing Record 7 of Set 2 | lasa\n",
      "Processing Record 8 of Set 2 | avarua\n",
      "Processing Record 9 of Set 2 | college\n",
      "Processing Record 10 of Set 2 | hervey bay\n",
      "Processing Record 11 of Set 2 | clyde river\n",
      "Processing Record 12 of Set 2 | kloulklubed\n",
      "Processing Record 13 of Set 2 | changji\n",
      "Processing Record 14 of Set 2 | port augusta\n",
      "Processing Record 15 of Set 2 | tiksi\n",
      "Processing Record 16 of Set 2 | butaritari\n",
      "Processing Record 17 of Set 2 | kahului\n",
      "Processing Record 18 of Set 2 | paamiut\n",
      "Processing Record 19 of Set 2 | juan lacaze\n",
      "Processing Record 20 of Set 2 | hermanus\n",
      "Processing Record 21 of Set 2 | pahrump\n",
      "Processing Record 22 of Set 2 | beyneu\n",
      "Processing Record 23 of Set 2 | ancud\n",
      "Processing Record 24 of Set 2 | hay river\n",
      "Processing Record 25 of Set 2 | hilo\n",
      "Processing Record 26 of Set 2 | pevek\n",
      "Processing Record 27 of Set 2 | karratha\n",
      "Processing Record 28 of Set 2 | atuona\n",
      "Processing Record 29 of Set 2 | sur\n",
      "Processing Record 30 of Set 2 | kristiansund\n",
      "Processing Record 31 of Set 2 | cabedelo\n",
      "Processing Record 32 of Set 2 | talnakh\n",
      "Processing Record 33 of Set 2 | carmen\n",
      "Processing Record 34 of Set 2 | estevan\n",
      "Processing Record 35 of Set 2 | saint-georges\n",
      "Processing Record 36 of Set 2 | pacific grove\n",
      "Processing Record 37 of Set 2 | tsabong\n",
      "Processing Record 38 of Set 2 | khatanga\n",
      "Processing Record 39 of Set 2 | sakakah\n",
      "Processing Record 40 of Set 2 | sinnamary\n",
      "Processing Record 41 of Set 2 | busselton\n",
      "Processing Record 42 of Set 2 | lucea\n",
      "Processing Record 43 of Set 2 | benguela\n",
      "City not found. Skipping...\n",
      "City not found. Skipping...\n",
      "Processing Record 44 of Set 2 | namatanai\n",
      "Processing Record 45 of Set 2 | port lincoln\n",
      "Processing Record 46 of Set 2 | yellowknife\n",
      "Processing Record 47 of Set 2 | abha\n",
      "Processing Record 48 of Set 2 | kaitangata\n",
      "Processing Record 49 of Set 2 | hofn\n",
      "Processing Record 1 of Set 3 | luba\n",
      "Processing Record 2 of Set 3 | laguna\n",
      "Processing Record 3 of Set 3 | lavrentiya\n",
      "Processing Record 4 of Set 3 | ucluelet\n",
      "Processing Record 5 of Set 3 | smithers\n",
      "Processing Record 6 of Set 3 | torbay\n",
      "Processing Record 7 of Set 3 | punta arenas\n",
      "Processing Record 8 of Set 3 | christchurch\n",
      "Processing Record 9 of Set 3 | lompoc\n",
      "Processing Record 10 of Set 3 | moindou\n",
      "Processing Record 11 of Set 3 | kodiak\n",
      "Processing Record 12 of Set 3 | lethem\n",
      "Processing Record 13 of Set 3 | fez\n",
      "Processing Record 14 of Set 3 | upernavik\n",
      "Processing Record 15 of Set 3 | bredasdorp\n",
      "Processing Record 16 of Set 3 | cherepet\n",
      "Processing Record 17 of Set 3 | pangai\n",
      "Processing Record 18 of Set 3 | telde\n",
      "Processing Record 19 of Set 3 | hernani\n",
      "Processing Record 20 of Set 3 | kupang\n",
      "Processing Record 21 of Set 3 | chapais\n",
      "Processing Record 22 of Set 3 | castro\n",
      "Processing Record 23 of Set 3 | melilla\n",
      "Processing Record 24 of Set 3 | aykhal\n",
      "Processing Record 25 of Set 3 | rawson\n",
      "Processing Record 26 of Set 3 | sudislavl\n",
      "Processing Record 27 of Set 3 | severo-kurilsk\n",
      "City not found. Skipping...\n",
      "Processing Record 28 of Set 3 | ilulissat\n",
      "Processing Record 29 of Set 3 | ekibastuz\n",
      "Processing Record 30 of Set 3 | menton\n",
      "Processing Record 31 of Set 3 | zhoucheng\n",
      "Processing Record 32 of Set 3 | mandalgovi\n",
      "Processing Record 33 of Set 3 | faanui\n",
      "Processing Record 34 of Set 3 | duldurga\n",
      "Processing Record 35 of Set 3 | bannu\n",
      "Processing Record 36 of Set 3 | pitanga\n",
      "Processing Record 37 of Set 3 | villa carlos paz\n",
      "Processing Record 38 of Set 3 | cape town\n",
      "Processing Record 39 of Set 3 | ribeira grande\n",
      "Processing Record 40 of Set 3 | jiuquan\n",
      "Processing Record 41 of Set 3 | saint-philippe\n",
      "Processing Record 42 of Set 3 | mogadishu\n",
      "Processing Record 43 of Set 3 | biak\n",
      "Processing Record 44 of Set 3 | georgetown\n",
      "Processing Record 45 of Set 3 | cidreira\n",
      "Processing Record 46 of Set 3 | bud\n",
      "Processing Record 47 of Set 3 | kostomuksha\n",
      "Processing Record 48 of Set 3 | santa isabel do rio negro\n",
      "Processing Record 49 of Set 3 | asau\n",
      "Processing Record 1 of Set 4 | nicoya\n",
      "Processing Record 2 of Set 4 | port alfred\n",
      "Processing Record 3 of Set 4 | rehoboth\n",
      "Processing Record 4 of Set 4 | cabo san lucas\n",
      "Processing Record 5 of Set 4 | krasnaya polyana\n",
      "Processing Record 6 of Set 4 | hambantota\n",
      "Processing Record 7 of Set 4 | saint george\n",
      "Processing Record 8 of Set 4 | cota\n",
      "Processing Record 9 of Set 4 | kapaa\n",
      "Processing Record 10 of Set 4 | nenjiang\n",
      "Processing Record 11 of Set 4 | dobryanka\n",
      "Processing Record 12 of Set 4 | thompson\n",
      "City not found. Skipping...\n",
      "Processing Record 13 of Set 4 | taperoa\n",
      "Processing Record 14 of Set 4 | hofu\n",
      "Processing Record 15 of Set 4 | neuquen\n",
      "Processing Record 16 of Set 4 | kavieng\n",
      "Processing Record 17 of Set 4 | kaeo\n",
      "Processing Record 18 of Set 4 | sobolevo\n",
      "City not found. Skipping...\n",
      "Processing Record 19 of Set 4 | bestobe\n",
      "Processing Record 20 of Set 4 | syracuse\n",
      "Processing Record 21 of Set 4 | brae\n",
      "Processing Record 22 of Set 4 | lorengau\n",
      "Processing Record 23 of Set 4 | carnarvon\n",
      "Processing Record 24 of Set 4 | coquimbo\n",
      "Processing Record 25 of Set 4 | moron\n",
      "Processing Record 26 of Set 4 | yinchuan\n",
      "Processing Record 27 of Set 4 | fatezh\n",
      "Processing Record 28 of Set 4 | te anau\n",
      "Processing Record 29 of Set 4 | sri aman\n",
      "Processing Record 30 of Set 4 | port blair\n",
      "Processing Record 31 of Set 4 | longyearbyen\n",
      "Processing Record 32 of Set 4 | jingdezhen\n",
      "Processing Record 33 of Set 4 | richards bay\n",
      "Processing Record 34 of Set 4 | pisco\n",
      "Processing Record 35 of Set 4 | bengkulu\n",
      "Processing Record 36 of Set 4 | lisala\n",
      "Processing Record 37 of Set 4 | arman\n",
      "Processing Record 38 of Set 4 | avera\n",
      "Processing Record 39 of Set 4 | port elizabeth\n",
      "Processing Record 40 of Set 4 | geraldton\n",
      "Processing Record 41 of Set 4 | ukmerge\n",
      "Processing Record 42 of Set 4 | ettlingen\n",
      "Processing Record 43 of Set 4 | linhares\n",
      "Processing Record 44 of Set 4 | nyurba\n",
      "Processing Record 45 of Set 4 | airai\n",
      "Processing Record 46 of Set 4 | mamburao\n",
      "Processing Record 47 of Set 4 | mitchell\n",
      "Processing Record 48 of Set 4 | chokurdakh\n",
      "City not found. Skipping...\n",
      "City not found. Skipping...\n",
      "Processing Record 49 of Set 4 | san patricio\n",
      "Processing Record 1 of Set 5 | poum\n",
      "Processing Record 2 of Set 5 | port-gentil\n",
      "Processing Record 3 of Set 5 | tasiilaq\n",
      "Processing Record 4 of Set 5 | esperance\n",
      "Processing Record 5 of Set 5 | chicama\n",
      "Processing Record 6 of Set 5 | bandundu\n",
      "Processing Record 7 of Set 5 | atar\n",
      "Processing Record 8 of Set 5 | coos bay\n",
      "Processing Record 9 of Set 5 | guerrero negro\n",
      "Processing Record 10 of Set 5 | port hardy\n",
      "Processing Record 11 of Set 5 | goundam\n",
      "Processing Record 12 of Set 5 | tiznit\n",
      "Processing Record 13 of Set 5 | dedza\n",
      "Processing Record 14 of Set 5 | pudozh\n",
      "City not found. Skipping...\n",
      "Processing Record 15 of Set 5 | wuwei\n",
      "Processing Record 16 of Set 5 | hualmay\n",
      "Processing Record 17 of Set 5 | alofi\n",
      "Processing Record 18 of Set 5 | svetlaya\n",
      "Processing Record 19 of Set 5 | drumheller\n",
      "Processing Record 20 of Set 5 | pangnirtung\n",
      "Processing Record 21 of Set 5 | champerico\n",
      "Processing Record 22 of Set 5 | julio de castilhos\n",
      "Processing Record 23 of Set 5 | honningsvag\n",
      "Processing Record 24 of Set 5 | ponta do sol\n",
      "Processing Record 25 of Set 5 | vestmannaeyjar\n",
      "City not found. Skipping...\n",
      "Processing Record 26 of Set 5 | loandjili\n",
      "Processing Record 27 of Set 5 | melbu\n",
      "Processing Record 28 of Set 5 | tibacuy\n",
      "Processing Record 29 of Set 5 | isangel\n",
      "Processing Record 30 of Set 5 | petrovsk-zabaykalskiy\n",
      "Processing Record 31 of Set 5 | tautira\n",
      "Processing Record 32 of Set 5 | luderitz\n",
      "City not found. Skipping...\n",
      "Processing Record 33 of Set 5 | lagoa\n",
      "Processing Record 34 of Set 5 | koidu\n",
      "Processing Record 35 of Set 5 | kavaratti\n",
      "City not found. Skipping...\n",
      "Processing Record 36 of Set 5 | santa cruz de la palma\n",
      "Processing Record 37 of Set 5 | ankazoabo\n",
      "Processing Record 38 of Set 5 | bonavista\n",
      "Processing Record 39 of Set 5 | san cristobal\n",
      "Processing Record 40 of Set 5 | burns lake\n",
      "Processing Record 41 of Set 5 | los llanos de aridane\n",
      "Processing Record 42 of Set 5 | kamenka\n",
      "Processing Record 43 of Set 5 | tessalit\n",
      "Processing Record 44 of Set 5 | felanitx\n",
      "Processing Record 45 of Set 5 | bandarbeyla\n",
      "Processing Record 46 of Set 5 | makakilo city\n",
      "Processing Record 47 of Set 5 | mancio lima\n",
      "Processing Record 48 of Set 5 | palana\n",
      "Processing Record 49 of Set 5 | astana\n",
      "Processing Record 1 of Set 6 | sault sainte marie\n",
      "City not found. Skipping...\n",
      "City not found. Skipping...\n",
      "Processing Record 2 of Set 6 | la asuncion\n",
      "Processing Record 3 of Set 6 | etchoropo\n",
      "Processing Record 4 of Set 6 | praia da vitoria\n",
      "Processing Record 5 of Set 6 | russell\n",
      "Processing Record 6 of Set 6 | tambopata\n",
      "Processing Record 7 of Set 6 | komsomolskiy\n",
      "Processing Record 8 of Set 6 | outjo\n",
      "Processing Record 9 of Set 6 | huarmey\n",
      "Processing Record 10 of Set 6 | westport\n",
      "Processing Record 11 of Set 6 | nizhniy baskunchak\n",
      "Processing Record 12 of Set 6 | bantry\n",
      "Processing Record 13 of Set 6 | east london\n",
      "City not found. Skipping...\n",
      "Processing Record 14 of Set 6 | lazaro cardenas\n",
      "Processing Record 15 of Set 6 | chipinge\n",
      "Processing Record 16 of Set 6 | klaksvik\n",
      "Processing Record 17 of Set 6 | pastavy\n",
      "Processing Record 18 of Set 6 | west bay\n",
      "Processing Record 19 of Set 6 | beringovskiy\n",
      "Processing Record 20 of Set 6 | codrington\n",
      "Processing Record 21 of Set 6 | egvekinot\n",
      "City not found. Skipping...\n",
      "Processing Record 22 of Set 6 | hasanabad\n",
      "Processing Record 23 of Set 6 | mahon\n",
      "Processing Record 24 of Set 6 | temecula\n",
      "Processing Record 25 of Set 6 | price\n",
      "Processing Record 26 of Set 6 | usinsk\n",
      "Processing Record 27 of Set 6 | sand\n",
      "Processing Record 28 of Set 6 | marsh harbour\n",
      "Processing Record 29 of Set 6 | buala\n",
      "Processing Record 30 of Set 6 | vila velha\n",
      "Processing Record 31 of Set 6 | muros\n",
      "Processing Record 32 of Set 6 | batemans bay\n",
      "Processing Record 33 of Set 6 | creel\n",
      "Processing Record 34 of Set 6 | souillac\n",
      "Processing Record 35 of Set 6 | haines junction\n",
      "Processing Record 36 of Set 6 | dunedin\n",
      "Processing Record 37 of Set 6 | littleton\n",
      "City not found. Skipping...\n",
      "Processing Record 38 of Set 6 | mount gambier\n",
      "Processing Record 39 of Set 6 | dzaoudzi\n",
      "Processing Record 40 of Set 6 | ahipara\n",
      "Processing Record 41 of Set 6 | ambon\n",
      "Processing Record 42 of Set 6 | yulara\n",
      "Processing Record 43 of Set 6 | asfi\n",
      "City not found. Skipping...\n",
      "Processing Record 44 of Set 6 | abu samrah\n",
      "Processing Record 45 of Set 6 | banswada\n",
      "Processing Record 46 of Set 6 | port hedland\n",
      "Processing Record 47 of Set 6 | eureka\n",
      "City not found. Skipping...\n",
      "Processing Record 48 of Set 6 | lufkin\n",
      "Processing Record 49 of Set 6 | nemuro\n",
      "Processing Record 1 of Set 7 | vytegra\n",
      "Processing Record 2 of Set 7 | pavlodar\n",
      "Processing Record 3 of Set 7 | sokur\n",
      "Processing Record 4 of Set 7 | onda\n",
      "Processing Record 5 of Set 7 | muroran\n",
      "Processing Record 6 of Set 7 | porto walter\n",
      "Processing Record 7 of Set 7 | bubaque\n",
      "Processing Record 8 of Set 7 | chuy\n",
      "Processing Record 9 of Set 7 | batagay-alyta\n",
      "City not found. Skipping...\n",
      "Processing Record 10 of Set 7 | shimoda\n",
      "Processing Record 11 of Set 7 | bathsheba\n",
      "Processing Record 12 of Set 7 | victoria\n",
      "Processing Record 13 of Set 7 | medzilaborce\n",
      "Processing Record 14 of Set 7 | nome\n",
      "Processing Record 15 of Set 7 | cherskiy\n",
      "Processing Record 16 of Set 7 | makhachkala\n",
      "Processing Record 17 of Set 7 | oktyabrskoye\n",
      "Processing Record 18 of Set 7 | banda aceh\n",
      "Processing Record 19 of Set 7 | dutlwe\n",
      "Processing Record 20 of Set 7 | taoudenni\n",
      "Processing Record 21 of Set 7 | neryungri\n",
      "Processing Record 22 of Set 7 | dali\n",
      "Processing Record 23 of Set 7 | tateyama\n",
      "Processing Record 24 of Set 7 | gillette\n",
      "Processing Record 25 of Set 7 | ahtopol\n",
      "Processing Record 26 of Set 7 | leh\n",
      "Processing Record 27 of Set 7 | anadyr\n",
      "Processing Record 28 of Set 7 | mount darwin\n",
      "Processing Record 29 of Set 7 | la ronge\n",
      "Processing Record 30 of Set 7 | mackenzie\n",
      "Processing Record 31 of Set 7 | buzmeyin\n",
      "Processing Record 32 of Set 7 | sao filipe\n",
      "Processing Record 33 of Set 7 | xinye\n",
      "Processing Record 34 of Set 7 | polyany\n",
      "Processing Record 35 of Set 7 | okha\n",
      "Processing Record 36 of Set 7 | dhidhdhoo\n",
      "Processing Record 37 of Set 7 | thayetmyo\n",
      "Processing Record 38 of Set 7 | omboue\n",
      "Processing Record 39 of Set 7 | sovetskiy\n",
      "Processing Record 40 of Set 7 | uinskoye\n",
      "City not found. Skipping...\n",
      "Processing Record 41 of Set 7 | ormara\n",
      "Processing Record 42 of Set 7 | aswan\n",
      "Processing Record 43 of Set 7 | yen bai\n",
      "City not found. Skipping...\n",
      "Processing Record 44 of Set 7 | jalu\n",
      "Processing Record 45 of Set 7 | george\n",
      "Processing Record 46 of Set 7 | san carlos de bariloche\n",
      "Processing Record 47 of Set 7 | puerto madryn\n",
      "Processing Record 48 of Set 7 | kruisfontein\n",
      "Processing Record 49 of Set 7 | awbari\n",
      "Processing Record 1 of Set 8 | mountrath\n",
      "Processing Record 2 of Set 8 | todos santos\n",
      "Processing Record 3 of Set 8 | okhotsk\n",
      "Processing Record 4 of Set 8 | salinopolis\n",
      "Processing Record 5 of Set 8 | heyang\n",
      "Processing Record 6 of Set 8 | kannur\n",
      "Processing Record 7 of Set 8 | sola\n",
      "Processing Record 8 of Set 8 | daru\n",
      "Processing Record 9 of Set 8 | yulin\n",
      "Processing Record 10 of Set 8 | provideniya\n",
      "Processing Record 11 of Set 8 | hachinohe\n",
      "Processing Record 12 of Set 8 | labytnangi\n",
      "Processing Record 13 of Set 8 | houma\n",
      "City not found. Skipping...\n",
      "Processing Record 14 of Set 8 | ustye\n",
      "Processing Record 15 of Set 8 | tonj\n",
      "Processing Record 16 of Set 8 | husavik\n",
      "Processing Record 17 of Set 8 | padang\n",
      "Processing Record 18 of Set 8 | kiunga\n",
      "City not found. Skipping...\n",
      "Processing Record 19 of Set 8 | ternate\n",
      "Processing Record 20 of Set 8 | nelson bay\n",
      "Processing Record 21 of Set 8 | sitka\n",
      "Processing Record 22 of Set 8 | tura\n",
      "Processing Record 23 of Set 8 | khvoynaya\n",
      "Processing Record 24 of Set 8 | naze\n",
      "Processing Record 25 of Set 8 | zhigansk\n",
      "Processing Record 26 of Set 8 | berlevag\n",
      "Processing Record 27 of Set 8 | vozrozhdeniye\n",
      "Processing Record 28 of Set 8 | nalut\n",
      "Processing Record 29 of Set 8 | mnogovershinnyy\n",
      "Processing Record 30 of Set 8 | ginir\n",
      "Processing Record 31 of Set 8 | coleraine\n",
      "Processing Record 32 of Set 8 | bamiantong\n",
      "Processing Record 33 of Set 8 | manzil salim\n",
      "Processing Record 34 of Set 8 | hami\n",
      "Processing Record 35 of Set 8 | vostok\n",
      "Processing Record 36 of Set 8 | goedereede\n",
      "Processing Record 37 of Set 8 | sangar\n",
      "City not found. Skipping...\n",
      "Processing Record 38 of Set 8 | sao paulo de olivenca\n",
      "Processing Record 39 of Set 8 | saldanha\n",
      "Processing Record 40 of Set 8 | concordia\n",
      "Processing Record 41 of Set 8 | cloquet\n",
      "Processing Record 42 of Set 8 | arlit\n",
      "City not found. Skipping...\n",
      "Processing Record 43 of Set 8 | moura\n",
      "Processing Record 44 of Set 8 | tari\n",
      "Processing Record 45 of Set 8 | anuradhapura\n",
      "Processing Record 46 of Set 8 | kangaatsiaq\n",
      "Processing Record 47 of Set 8 | dingle\n",
      "Processing Record 48 of Set 8 | alyangula\n",
      "Processing Record 49 of Set 8 | tha maka\n",
      "Processing Record 1 of Set 9 | zhukovka\n",
      "Processing Record 2 of Set 9 | jutai\n",
      "Processing Record 3 of Set 9 | portland\n",
      "Processing Record 4 of Set 9 | lyubinskiy\n",
      "Processing Record 5 of Set 9 | kikwit\n",
      "Processing Record 6 of Set 9 | luxor\n",
      "Processing Record 7 of Set 9 | romitan\n",
      "Processing Record 8 of Set 9 | duminichi\n",
      "Processing Record 9 of Set 9 | takefu\n",
      "Processing Record 10 of Set 9 | iqaluit\n",
      "Processing Record 11 of Set 9 | charters towers\n",
      "Processing Record 12 of Set 9 | krasnovishersk\n",
      "City not found. Skipping...\n",
      "Processing Record 13 of Set 9 | pedasi\n",
      "Processing Record 14 of Set 9 | moche\n",
      "Processing Record 15 of Set 9 | cayenne\n",
      "Processing Record 16 of Set 9 | dalbandin\n",
      "Processing Record 17 of Set 9 | rabo de peixe\n",
      "Processing Record 18 of Set 9 | san jeronimo\n",
      "Processing Record 19 of Set 9 | bodden town\n",
      "City not found. Skipping...\n",
      "Processing Record 20 of Set 9 | edd\n",
      "Processing Record 21 of Set 9 | marawi\n",
      "Processing Record 22 of Set 9 | qorveh\n",
      "City not found. Skipping...\n",
      "Processing Record 23 of Set 9 | asyut\n",
      "Processing Record 24 of Set 9 | shahreza\n",
      "Processing Record 25 of Set 9 | ilinskiy\n",
      "Processing Record 26 of Set 9 | pontes e lacerda\n",
      "Processing Record 27 of Set 9 | srednekolymsk\n",
      "Processing Record 28 of Set 9 | aklavik\n",
      "Processing Record 29 of Set 9 | foz do iguacu\n",
      "Processing Record 30 of Set 9 | gari\n",
      "Processing Record 31 of Set 9 | tarko-sale\n",
      "Processing Record 32 of Set 9 | korla\n",
      "Processing Record 33 of Set 9 | cockburn town\n",
      "Processing Record 34 of Set 9 | shelburne\n",
      "Processing Record 35 of Set 9 | hasaki\n",
      "Processing Record 36 of Set 9 | san quintin\n",
      "City not found. Skipping...\n",
      "Processing Record 37 of Set 9 | kieta\n",
      "Processing Record 38 of Set 9 | sokoni\n",
      "Processing Record 39 of Set 9 | baruun-urt\n",
      "City not found. Skipping...\n",
      "Processing Record 40 of Set 9 | yerbogachen\n",
      "Processing Record 41 of Set 9 | san jose\n",
      "Processing Record 42 of Set 9 | constitucion\n",
      "Processing Record 43 of Set 9 | chara\n",
      "Processing Record 44 of Set 9 | ortigueira\n",
      "Processing Record 45 of Set 9 | cam ranh\n",
      "Processing Record 46 of Set 9 | melville\n",
      "Processing Record 47 of Set 9 | fare\n",
      "Processing Record 48 of Set 9 | lerwick\n",
      "Processing Record 49 of Set 9 | smidovich\n",
      "Processing Record 1 of Set 10 | litovko\n",
      "Processing Record 2 of Set 10 | lewiston\n",
      "Processing Record 3 of Set 10 | sistranda\n",
      "Processing Record 4 of Set 10 | batsfjord\n",
      "Processing Record 5 of Set 10 | salalah\n",
      "Processing Record 6 of Set 10 | bristol\n",
      "Processing Record 7 of Set 10 | plettenberg bay\n",
      "Processing Record 8 of Set 10 | praia\n",
      "Processing Record 9 of Set 10 | tocopilla\n",
      "Processing Record 10 of Set 10 | saint-pierre\n",
      "Processing Record 11 of Set 10 | comodoro rivadavia\n",
      "Processing Record 12 of Set 10 | fort pierce\n",
      "Processing Record 13 of Set 10 | leo\n",
      "Processing Record 14 of Set 10 | caravelas\n",
      "City not found. Skipping...\n",
      "Processing Record 15 of Set 10 | nerchinskiy zavod\n",
      "Processing Record 16 of Set 10 | moree\n",
      "Processing Record 17 of Set 10 | vertientes\n",
      "Processing Record 18 of Set 10 | riviere-au-renard\n",
      "Processing Record 19 of Set 10 | veinticinco de mayo\n",
      "Processing Record 20 of Set 10 | am timan\n",
      "Processing Record 21 of Set 10 | key largo\n",
      "Processing Record 22 of Set 10 | bilibino\n",
      "Processing Record 23 of Set 10 | mpika\n",
      "Processing Record 24 of Set 10 | timelkam\n",
      "Processing Record 25 of Set 10 | khandyga\n",
      "Processing Record 26 of Set 10 | dauphin\n",
      "Processing Record 27 of Set 10 | seoul\n",
      "Processing Record 28 of Set 10 | vardo\n",
      "Processing Record 29 of Set 10 | tran\n",
      "Processing Record 30 of Set 10 | ugoofaaru\n",
      "Processing Record 31 of Set 10 | maksatikha\n",
      "Processing Record 32 of Set 10 | zeya\n",
      "Processing Record 33 of Set 10 | sindhnur\n",
      "Processing Record 34 of Set 10 | tommot\n",
      "Processing Record 35 of Set 10 | mirnyy\n",
      "Processing Record 36 of Set 10 | santa cruz\n",
      "Processing Record 37 of Set 10 | zlitan\n",
      "City not found. Skipping...\n",
      "City not found. Skipping...\n",
      "Processing Record 38 of Set 10 | la rioja\n",
      "Processing Record 39 of Set 10 | bela\n",
      "City not found. Skipping...\n",
      "Processing Record 40 of Set 10 | sao domingos do maranhao\n",
      "Processing Record 41 of Set 10 | kjollefjord\n",
      "Processing Record 42 of Set 10 | dinslaken\n",
      "Processing Record 43 of Set 10 | port macquarie\n",
      "Processing Record 44 of Set 10 | waddan\n",
      "Processing Record 45 of Set 10 | berbera\n",
      "Processing Record 46 of Set 10 | malayal\n",
      "Processing Record 47 of Set 10 | jagdalpur\n",
      "Processing Record 48 of Set 10 | amahai\n",
      "Processing Record 49 of Set 10 | stolin\n",
      "Processing Record 1 of Set 11 | selma\n",
      "Processing Record 2 of Set 11 | cairns\n",
      "Processing Record 3 of Set 11 | mgandu\n",
      "Processing Record 4 of Set 11 | marrakesh\n",
      "Processing Record 5 of Set 11 | caxias\n",
      "Processing Record 6 of Set 11 | morden\n",
      "Processing Record 7 of Set 11 | adrar\n",
      "City not found. Skipping...\n",
      "Processing Record 8 of Set 11 | shilovo\n",
      "City not found. Skipping...\n",
      "Processing Record 9 of Set 11 | kodinar\n",
      "Processing Record 10 of Set 11 | mareeba\n",
      "Processing Record 11 of Set 11 | hirara\n",
      "Processing Record 12 of Set 11 | quatre cocos\n",
      "Processing Record 13 of Set 11 | massakory\n",
      "Processing Record 14 of Set 11 | kerema\n",
      "Processing Record 15 of Set 11 | qeshm\n",
      "Processing Record 16 of Set 11 | havre-saint-pierre\n",
      "Processing Record 17 of Set 11 | manokwari\n",
      "Processing Record 18 of Set 11 | atambua\n",
      "Processing Record 19 of Set 11 | valdivia\n",
      "Processing Record 20 of Set 11 | afyonkarahisar\n",
      "Processing Record 21 of Set 11 | north bend\n",
      "Processing Record 22 of Set 11 | hargeysa\n",
      "Processing Record 23 of Set 11 | opuwo\n",
      "Processing Record 24 of Set 11 | tual\n",
      "Processing Record 25 of Set 11 | staryy nadym\n",
      "Processing Record 26 of Set 11 | kendari\n",
      "Processing Record 27 of Set 11 | vao\n",
      "Processing Record 28 of Set 11 | huaiyin\n",
      "Processing Record 29 of Set 11 | vavoua\n",
      "Processing Record 30 of Set 11 | wanning\n",
      "Processing Record 31 of Set 11 | togur\n",
      "Processing Record 32 of Set 11 | sao felix do xingu\n",
      "Processing Record 33 of Set 11 | uberlandia\n",
      "City not found. Skipping...\n",
      "Processing Record 34 of Set 11 | maroua\n",
      "Processing Record 35 of Set 11 | lieksa\n",
      "City not found. Skipping...\n",
      "Processing Record 36 of Set 11 | emerald\n",
      "Processing Record 37 of Set 11 | deputatskiy\n",
      "Processing Record 38 of Set 11 | krasnyy luch\n",
      "Processing Record 39 of Set 11 | guiratinga\n",
      "Processing Record 40 of Set 11 | balsta\n",
      "Processing Record 41 of Set 11 | grand-santi\n",
      "Processing Record 42 of Set 11 | zirgan\n",
      "Processing Record 43 of Set 11 | helong\n",
      "Processing Record 44 of Set 11 | udayagiri\n",
      "Processing Record 45 of Set 11 | mount isa\n",
      "Processing Record 46 of Set 11 | harnosand\n",
      "Processing Record 47 of Set 11 | panzhihua\n",
      "Processing Record 48 of Set 11 | fort nelson\n",
      "Processing Record 49 of Set 11 | oistins\n",
      "Processing Record 1 of Set 12 | andenes\n",
      "Processing Record 2 of Set 12 | ozernovskiy\n",
      "City not found. Skipping...\n",
      "Processing Record 3 of Set 12 | aracati\n",
      "City not found. Skipping...\n",
      "Processing Record 4 of Set 12 | puerto el triunfo\n",
      "City not found. Skipping...\n",
      "Processing Record 5 of Set 12 | beloha\n",
      "Processing Record 6 of Set 12 | ouadda\n",
      "Processing Record 7 of Set 12 | norrtalje\n",
      "Processing Record 8 of Set 12 | tutoia\n",
      "Processing Record 9 of Set 12 | tucurui\n",
      "Processing Record 10 of Set 12 | ayan\n",
      "City not found. Skipping...\n",
      "Processing Record 11 of Set 12 | newcastleton\n",
      "Processing Record 12 of Set 12 | fort frances\n",
      "Processing Record 13 of Set 12 | magan\n",
      "Processing Record 14 of Set 12 | araouane\n",
      "Processing Record 15 of Set 12 | moffat\n",
      "Processing Record 16 of Set 12 | carauari\n",
      "Processing Record 17 of Set 12 | sisimiut\n",
      "Processing Record 18 of Set 12 | kirensk\n",
      "Processing Record 19 of Set 12 | vila franca do campo\n",
      "Processing Record 20 of Set 12 | nantucket\n",
      "------------------------------\n",
      "Data Retrieval Complete\n",
      "------------------------------\n"
     ]
    }
   ],
   "source": [
    "#include a print log of each city as its being processed (with the city number and city name)\n",
    "url = \"http://api.openweathermap.org/data/2.5/weather?\"\n",
    "\n",
    "counter=0\n",
    "set_num=1\n",
    "clouds = []\n",
    "country = []\n",
    "date = []\n",
    "humidity = []\n",
    "lat = []\n",
    "lng = []\n",
    "max_temp = []\n",
    "wind_speed = []\n",
    "city_list=[]\n",
    "print(\"Beginning Data Retrieval\")\n",
    "print(\"-\"*30)\n",
    "\n",
    "# Loop through the cities using the target url\n",
    "for city in cities:\n",
    "    target_url = f\"{url}appid={weather_api_key}&q={city}\" \n",
    "    weather_response= requests.get(target_url)\n",
    "    weather_json = weather_response.json()\n",
    "    try:\n",
    "        city_list.append(weather_json['name'])\n",
    "        clouds.append(weather_json['clouds']['all'])\n",
    "        country.append(weather_json['sys']['country'])\n",
    "        date.append(weather_json['dt'])\n",
    "        humidity.append(weather_json['main']['humidity'])\n",
    "        lat.append(weather_json['coord']['lat'])\n",
    "        lng.append(weather_json['coord']['lon'])\n",
    "        max_temp.append(9/5*(weather_json['main']['temp_max']-273.15)+32)\n",
    "        wind_speed.append(weather_json['wind']['speed'])\n",
    "\n",
    "        #then print log of each city as its being processed (with the city number and city name)\n",
    "        if counter>=49:\n",
    "            counter=1\n",
    "            set_num+=1\n",
    "            #city_list.append(city)\n",
    "        else:\n",
    "            counter+=1\n",
    "            #city_list.append(city)\n",
    "        print(f\"Processing Record {counter} of Set {set_num} | {city}\")\n",
    "    except Exception:\n",
    "        print(\"City not found. Skipping...\")\n",
    "print(\"-\"*30)\n",
    "print(\"Data Retrieval Complete\")\n",
    "print(\"-\"*30)\n"
   ]
  },
  {
   "cell_type": "markdown",
   "metadata": {},
   "source": [
    "### Convert Raw Data to DataFrame\n",
    "* Export the city data into a .csv.\n",
    "* Display the DataFrame"
   ]
  },
  {
   "cell_type": "code",
   "execution_count": 6,
   "metadata": {},
   "outputs": [],
   "source": [
    "#create dictionary for the info extracted from the url\n",
    "city_dict={\"City\":city_list,\n",
    "        \"Cloudiness\":clouds,\n",
    "        \"Country\":country,\n",
    "        \"Date\":date,\n",
    "        \"Humidity\":humidity,\n",
    "        \"Latitude\":lat,\n",
    "        \"Longitude\":lng,\n",
    "        \"Max Temp\":max_temp,\n",
    "        \"Wind Speed\":wind_speed}"
   ]
  },
  {
   "cell_type": "code",
   "execution_count": 7,
   "metadata": {},
   "outputs": [
    {
     "data": {
      "text/plain": [
       "City          559\n",
       "Cloudiness    559\n",
       "Country       559\n",
       "Date          559\n",
       "Humidity      559\n",
       "Latitude      559\n",
       "Longitude     559\n",
       "Max Temp      559\n",
       "Wind Speed    559\n",
       "dtype: int64"
      ]
     },
     "execution_count": 7,
     "metadata": {},
     "output_type": "execute_result"
    }
   ],
   "source": [
    "#display the dictionary as a dataframe and export as a csv\n",
    "city_df=pd.DataFrame(city_dict)\n",
    "city_df.count()"
   ]
  },
  {
   "cell_type": "code",
   "execution_count": 8,
   "metadata": {},
   "outputs": [
    {
     "data": {
      "text/html": [
       "<div>\n",
       "<style scoped>\n",
       "    .dataframe tbody tr th:only-of-type {\n",
       "        vertical-align: middle;\n",
       "    }\n",
       "\n",
       "    .dataframe tbody tr th {\n",
       "        vertical-align: top;\n",
       "    }\n",
       "\n",
       "    .dataframe thead th {\n",
       "        text-align: right;\n",
       "    }\n",
       "</style>\n",
       "<table border=\"1\" class=\"dataframe\">\n",
       "  <thead>\n",
       "    <tr style=\"text-align: right;\">\n",
       "      <th></th>\n",
       "      <th>City</th>\n",
       "      <th>Cloudiness</th>\n",
       "      <th>Country</th>\n",
       "      <th>Date</th>\n",
       "      <th>Humidity</th>\n",
       "      <th>Latitude</th>\n",
       "      <th>Longitude</th>\n",
       "      <th>Max Temp</th>\n",
       "      <th>Wind Speed</th>\n",
       "    </tr>\n",
       "  </thead>\n",
       "  <tbody>\n",
       "    <tr>\n",
       "      <th>0</th>\n",
       "      <td>Saskylakh</td>\n",
       "      <td>58</td>\n",
       "      <td>RU</td>\n",
       "      <td>1592502913</td>\n",
       "      <td>62</td>\n",
       "      <td>71.92</td>\n",
       "      <td>114.08</td>\n",
       "      <td>62.726</td>\n",
       "      <td>2.58</td>\n",
       "    </tr>\n",
       "    <tr>\n",
       "      <th>1</th>\n",
       "      <td>Mutoko</td>\n",
       "      <td>79</td>\n",
       "      <td>ZW</td>\n",
       "      <td>1592503208</td>\n",
       "      <td>84</td>\n",
       "      <td>-17.40</td>\n",
       "      <td>32.23</td>\n",
       "      <td>53.456</td>\n",
       "      <td>2.00</td>\n",
       "    </tr>\n",
       "    <tr>\n",
       "      <th>2</th>\n",
       "      <td>Arraial do Cabo</td>\n",
       "      <td>0</td>\n",
       "      <td>BR</td>\n",
       "      <td>1592503208</td>\n",
       "      <td>69</td>\n",
       "      <td>-22.97</td>\n",
       "      <td>-42.03</td>\n",
       "      <td>75.200</td>\n",
       "      <td>8.70</td>\n",
       "    </tr>\n",
       "    <tr>\n",
       "      <th>3</th>\n",
       "      <td>Baykit</td>\n",
       "      <td>63</td>\n",
       "      <td>RU</td>\n",
       "      <td>1592503158</td>\n",
       "      <td>62</td>\n",
       "      <td>61.67</td>\n",
       "      <td>96.37</td>\n",
       "      <td>54.788</td>\n",
       "      <td>1.57</td>\n",
       "    </tr>\n",
       "    <tr>\n",
       "      <th>4</th>\n",
       "      <td>Narsaq</td>\n",
       "      <td>75</td>\n",
       "      <td>GL</td>\n",
       "      <td>1592503174</td>\n",
       "      <td>70</td>\n",
       "      <td>60.92</td>\n",
       "      <td>-46.05</td>\n",
       "      <td>42.800</td>\n",
       "      <td>4.60</td>\n",
       "    </tr>\n",
       "  </tbody>\n",
       "</table>\n",
       "</div>"
      ],
      "text/plain": [
       "              City  Cloudiness Country        Date  Humidity  Latitude  \\\n",
       "0        Saskylakh          58      RU  1592502913        62     71.92   \n",
       "1           Mutoko          79      ZW  1592503208        84    -17.40   \n",
       "2  Arraial do Cabo           0      BR  1592503208        69    -22.97   \n",
       "3           Baykit          63      RU  1592503158        62     61.67   \n",
       "4           Narsaq          75      GL  1592503174        70     60.92   \n",
       "\n",
       "   Longitude  Max Temp  Wind Speed  \n",
       "0     114.08    62.726        2.58  \n",
       "1      32.23    53.456        2.00  \n",
       "2     -42.03    75.200        8.70  \n",
       "3      96.37    54.788        1.57  \n",
       "4     -46.05    42.800        4.60  "
      ]
     },
     "execution_count": 8,
     "metadata": {},
     "output_type": "execute_result"
    }
   ],
   "source": [
    "city_df.head()"
   ]
  },
  {
   "cell_type": "code",
   "execution_count": 9,
   "metadata": {},
   "outputs": [],
   "source": [
    "# export as a csv\n",
    "city_df.to_csv(\"city_data.csv\")"
   ]
  },
  {
   "cell_type": "markdown",
   "metadata": {},
   "source": [
    "## Inspect the data and remove the cities where the humidity > 100%.\n",
    "----\n",
    "Skip this step if there are no cities that have humidity > 100%. "
   ]
  },
  {
   "cell_type": "code",
   "execution_count": null,
   "metadata": {},
   "outputs": [],
   "source": []
  },
  {
   "cell_type": "code",
   "execution_count": 39,
   "metadata": {},
   "outputs": [
    {
     "data": {
      "text/html": [
       "<div>\n",
       "<style scoped>\n",
       "    .dataframe tbody tr th:only-of-type {\n",
       "        vertical-align: middle;\n",
       "    }\n",
       "\n",
       "    .dataframe tbody tr th {\n",
       "        vertical-align: top;\n",
       "    }\n",
       "\n",
       "    .dataframe thead th {\n",
       "        text-align: right;\n",
       "    }\n",
       "</style>\n",
       "<table border=\"1\" class=\"dataframe\">\n",
       "  <thead>\n",
       "    <tr style=\"text-align: right;\">\n",
       "      <th></th>\n",
       "      <th>Humidity</th>\n",
       "    </tr>\n",
       "  </thead>\n",
       "  <tbody>\n",
       "    <tr>\n",
       "      <th>0</th>\n",
       "      <td>62</td>\n",
       "    </tr>\n",
       "    <tr>\n",
       "      <th>1</th>\n",
       "      <td>84</td>\n",
       "    </tr>\n",
       "    <tr>\n",
       "      <th>2</th>\n",
       "      <td>69</td>\n",
       "    </tr>\n",
       "    <tr>\n",
       "      <th>3</th>\n",
       "      <td>62</td>\n",
       "    </tr>\n",
       "    <tr>\n",
       "      <th>4</th>\n",
       "      <td>70</td>\n",
       "    </tr>\n",
       "    <tr>\n",
       "      <th>5</th>\n",
       "      <td>57</td>\n",
       "    </tr>\n",
       "    <tr>\n",
       "      <th>6</th>\n",
       "      <td>96</td>\n",
       "    </tr>\n",
       "    <tr>\n",
       "      <th>7</th>\n",
       "      <td>74</td>\n",
       "    </tr>\n",
       "    <tr>\n",
       "      <th>8</th>\n",
       "      <td>80</td>\n",
       "    </tr>\n",
       "    <tr>\n",
       "      <th>9</th>\n",
       "      <td>85</td>\n",
       "    </tr>\n",
       "    <tr>\n",
       "      <th>10</th>\n",
       "      <td>93</td>\n",
       "    </tr>\n",
       "    <tr>\n",
       "      <th>11</th>\n",
       "      <td>67</td>\n",
       "    </tr>\n",
       "    <tr>\n",
       "      <th>12</th>\n",
       "      <td>62</td>\n",
       "    </tr>\n",
       "    <tr>\n",
       "      <th>13</th>\n",
       "      <td>82</td>\n",
       "    </tr>\n",
       "    <tr>\n",
       "      <th>14</th>\n",
       "      <td>91</td>\n",
       "    </tr>\n",
       "    <tr>\n",
       "      <th>15</th>\n",
       "      <td>59</td>\n",
       "    </tr>\n",
       "    <tr>\n",
       "      <th>16</th>\n",
       "      <td>63</td>\n",
       "    </tr>\n",
       "    <tr>\n",
       "      <th>17</th>\n",
       "      <td>93</td>\n",
       "    </tr>\n",
       "    <tr>\n",
       "      <th>18</th>\n",
       "      <td>83</td>\n",
       "    </tr>\n",
       "    <tr>\n",
       "      <th>19</th>\n",
       "      <td>84</td>\n",
       "    </tr>\n",
       "    <tr>\n",
       "      <th>20</th>\n",
       "      <td>68</td>\n",
       "    </tr>\n",
       "    <tr>\n",
       "      <th>21</th>\n",
       "      <td>41</td>\n",
       "    </tr>\n",
       "    <tr>\n",
       "      <th>22</th>\n",
       "      <td>90</td>\n",
       "    </tr>\n",
       "    <tr>\n",
       "      <th>23</th>\n",
       "      <td>87</td>\n",
       "    </tr>\n",
       "    <tr>\n",
       "      <th>24</th>\n",
       "      <td>75</td>\n",
       "    </tr>\n",
       "    <tr>\n",
       "      <th>25</th>\n",
       "      <td>69</td>\n",
       "    </tr>\n",
       "    <tr>\n",
       "      <th>26</th>\n",
       "      <td>76</td>\n",
       "    </tr>\n",
       "    <tr>\n",
       "      <th>27</th>\n",
       "      <td>49</td>\n",
       "    </tr>\n",
       "    <tr>\n",
       "      <th>28</th>\n",
       "      <td>77</td>\n",
       "    </tr>\n",
       "    <tr>\n",
       "      <th>29</th>\n",
       "      <td>75</td>\n",
       "    </tr>\n",
       "  </tbody>\n",
       "</table>\n",
       "</div>"
      ],
      "text/plain": [
       "    Humidity\n",
       "0         62\n",
       "1         84\n",
       "2         69\n",
       "3         62\n",
       "4         70\n",
       "5         57\n",
       "6         96\n",
       "7         74\n",
       "8         80\n",
       "9         85\n",
       "10        93\n",
       "11        67\n",
       "12        62\n",
       "13        82\n",
       "14        91\n",
       "15        59\n",
       "16        63\n",
       "17        93\n",
       "18        83\n",
       "19        84\n",
       "20        68\n",
       "21        41\n",
       "22        90\n",
       "23        87\n",
       "24        75\n",
       "25        69\n",
       "26        76\n",
       "27        49\n",
       "28        77\n",
       "29        75"
      ]
     },
     "execution_count": 39,
     "metadata": {},
     "output_type": "execute_result"
    }
   ],
   "source": [
    "#  Get the indices of cities that have humidity over 100%.\n",
    "humidity= pd.DataFrame(city_df['Humidity'])\n",
    "humidity.head(30)"
   ]
  },
  {
   "cell_type": "code",
   "execution_count": null,
   "metadata": {},
   "outputs": [],
   "source": [
    "# Make a new DataFrame equal to the city data to drop all humidity outliers by index.\n",
    "# Passing \"inplace=False\" will make a copy of the city_data DataFrame, which we call \"clean_city_data\".\n"
   ]
  },
  {
   "cell_type": "code",
   "execution_count": null,
   "metadata": {},
   "outputs": [],
   "source": [
    "# Extract relevant fields from the data frame\n",
    "\n",
    "\n",
    "# Export the City_Data into a csv\n"
   ]
  },
  {
   "cell_type": "markdown",
   "metadata": {},
   "source": [
    "## Plotting the Data\n",
    "* Use proper labeling of the plots using plot titles (including date of analysis) and axes labels.\n",
    "* Save the plotted figures as .pngs."
   ]
  },
  {
   "cell_type": "markdown",
   "metadata": {},
   "source": [
    "## Latitude vs. Temperature Plot"
   ]
  },
  {
   "cell_type": "code",
   "execution_count": 48,
   "metadata": {
    "scrolled": true
   },
   "outputs": [
    {
     "data": {
      "image/png": "[encoded data removed]",
      "text/plain": [
       "<Figure size 432x288 with 1 Axes>"
      ]
     },
     "metadata": {
      "needs_background": "light"
     },
     "output_type": "display_data"
    },
    {
     "name": "stdout",
     "output_type": "stream",
     "text": [
      "The code is analyzing and portraying the relationship between the citys latitude compared to its Max Temperature.\n"
     ]
    }
   ],
   "source": [
    "plt.scatter(city_df[\"Latitude\"],city_df[\"Max Temp\"],edgecolors=\"black\",facecolors=\"blue\")\n",
    "\n",
    "plt.title(\"City Latitude vs. Max Temperature\")\n",
    "plt.xlabel(\"Latitude\")\n",
    "plt.ylabel(\"Max Temperature (F)\")\n",
    "plt.grid (b= True, which= \"major\", axis= \"both\", linestyle= \"-\", color= \"lightgrey\")\n",
    "\n",
    "plt.savefig(\"CityLat vs MaxTemp.png\")\n",
    "plt.show()\n",
    "\n",
    "#After each plot add a sentence or two explaining what the code is and analyzing.\n",
    "print(f'The code is analyzing and portraying the relationship between the citys latitude compared to its Max Temperature.')"
   ]
  },
  {
   "cell_type": "markdown",
   "metadata": {},
   "source": [
    "## Latitude vs. Humidity Plot"
   ]
  },
  {
   "cell_type": "code",
   "execution_count": 49,
   "metadata": {},
   "outputs": [
    {
     "data": {
      "image/png": "[encoded data removed]",
      "text/plain": [
       "<Figure size 432x288 with 1 Axes>"
      ]
     },
     "metadata": {
      "needs_background": "light"
     },
     "output_type": "display_data"
    },
    {
     "name": "stdout",
     "output_type": "stream",
     "text": [
      "The code is analyzing and portraying the relationship between the citys latitude compared to its Humidity.\n"
     ]
    }
   ],
   "source": [
    "plt.scatter(city_df[\"Latitude\"],city_df[\"Humidity\"],edgecolors= \"black\",facecolors= \"blue\")\n",
    "\n",
    "plt.title(\"City Latitude vs. Humidity\")\n",
    "plt.xlabel(\"Latitude\")\n",
    "plt.ylabel(\"Humidity (%)\")\n",
    "plt.grid (b= True, which= \"major\", axis= \"both\", linestyle= \"-\", color= \"lightgrey\")\n",
    "\n",
    "plt.savefig(\"CityLat vs Humidity.png\")\n",
    "plt.show()\n",
    "\n",
    "#After each plot add a sentence or two explaining what the code is and analyzing.\n",
    "print(f'The code is analyzing and portraying the relationship between the citys latitude compared to its Humidity.')"
   ]
  },
  {
   "cell_type": "markdown",
   "metadata": {},
   "source": [
    "## Latitude vs. Cloudiness Plot"
   ]
  },
  {
   "cell_type": "code",
   "execution_count": 50,
   "metadata": {},
   "outputs": [
    {
     "data": {
      "image/png": "[encoded data removed]",
      "text/plain": [
       "<Figure size 432x288 with 1 Axes>"
      ]
     },
     "metadata": {
      "needs_background": "light"
     },
     "output_type": "display_data"
    },
    {
     "name": "stdout",
     "output_type": "stream",
     "text": [
      "The code is analyzing and portraying the relationship between the citys latitude compared to cloudiness.\n"
     ]
    }
   ],
   "source": [
    "plt.scatter(city_df[\"Latitude\"],city_df[\"Cloudiness\"],edgecolors= \"black\",facecolors= \"blue\")\n",
    "\n",
    "plt.title(\"City Latitude vs. Cloudiness\")\n",
    "plt.xlabel(\"Latitude\")\n",
    "plt.ylabel(\"Cloudiness (%)\")\n",
    "plt.grid (b= True, which= \"major\", axis= \"both\", linestyle= \"-\", color= \"lightgrey\")\n",
    "\n",
    "plt.savefig(\"CityLat vs Cloudiness.png\")\n",
    "plt.show()\n",
    "\n",
    "#After each plot add a sentence or two explaining what the code is and analyzing.\n",
    "print(f'The code is analyzing and portraying the relationship between the citys latitude compared to cloudiness.')"
   ]
  },
  {
   "cell_type": "markdown",
   "metadata": {},
   "source": [
    "## Latitude vs. Wind Speed Plot"
   ]
  },
  {
   "cell_type": "code",
   "execution_count": 51,
   "metadata": {},
   "outputs": [
    {
     "data": {
      "image/png": "[encoded data removed]",
      "text/plain": [
       "<Figure size 432x288 with 1 Axes>"
      ]
     },
     "metadata": {
      "needs_background": "light"
     },
     "output_type": "display_data"
    },
    {
     "name": "stdout",
     "output_type": "stream",
     "text": [
      "The code is analyzing and portraying the relationship between the citys latitude compared to its wind speed.\n"
     ]
    }
   ],
   "source": [
    "plt.scatter(city_df[\"Latitude\"],city_df[\"Wind Speed\"],edgecolors= \"black\",facecolors= \"blue\")\n",
    "\n",
    "plt.title(\"City Latitude vs. Wind Speed\")\n",
    "plt.xlabel(\"Latitude\")\n",
    "plt.ylabel(\"Wind Speed (mph)\")\n",
    "plt.grid (b= True, which= \"major\", axis= \"both\", linestyle= \"-\", color= \"lightgrey\")\n",
    "\n",
    "plt.savefig(\"CityLat vs WindSpeed.png\")\n",
    "plt.show()\n",
    "\n",
    "#After each plot add a sentence or two explaining what the code is and analyzing.\n",
    "print(f'The code is analyzing and portraying the relationship between the citys latitude compared to its wind speed.')"
   ]
  },
  {
   "cell_type": "markdown",
   "metadata": {},
   "source": [
    "## Linear Regression"
   ]
  },
  {
   "cell_type": "code",
   "execution_count": 61,
   "metadata": {},
   "outputs": [],
   "source": [
    "# OPTIONAL: Create a function to create Linear Regression plots\n",
    "def plot_linear_regression(x_values, y_values, title, text_coordinates):\n",
    "    (slope, intercept, rvalue, pvalue, stderr) = linregress(x_values, y_values)\n",
    "    regress_values = x_values * slope + intercept\n",
    "    line_eq = \"y = \" + str(round(slope,2)) + \"x + \" + str(round(intercept,2))\n",
    "    \n",
    "    plt.scatter(x_values,y_values)\n",
    "    plt.plot(x_values,regress_values,\"r-\")\n",
    "    plt.annotate(line_eq,text_coordinates,fontsize=14,color=\"red\")\n",
    "    plt.xlabel(\"Latitude\")\n",
    "    plt.ylabel(title)\n",
    "    print(f\"The r-squared is: {rvalue}\")\n",
    "    plt.show()"
   ]
  },
  {
   "cell_type": "code",
   "execution_count": 62,
   "metadata": {},
   "outputs": [
    {
     "data": {
      "text/html": [
       "<div>\n",
       "<style scoped>\n",
       "    .dataframe tbody tr th:only-of-type {\n",
       "        vertical-align: middle;\n",
       "    }\n",
       "\n",
       "    .dataframe tbody tr th {\n",
       "        vertical-align: top;\n",
       "    }\n",
       "\n",
       "    .dataframe thead th {\n",
       "        text-align: right;\n",
       "    }\n",
       "</style>\n",
       "<table border=\"1\" class=\"dataframe\">\n",
       "  <thead>\n",
       "    <tr style=\"text-align: right;\">\n",
       "      <th></th>\n",
       "      <th>City</th>\n",
       "      <th>Cloudiness</th>\n",
       "      <th>Country</th>\n",
       "      <th>Date</th>\n",
       "      <th>Humidity</th>\n",
       "      <th>Latitude</th>\n",
       "      <th>Longitude</th>\n",
       "      <th>Max Temp</th>\n",
       "      <th>Wind Speed</th>\n",
       "    </tr>\n",
       "  </thead>\n",
       "  <tbody>\n",
       "    <tr>\n",
       "      <th>0</th>\n",
       "      <td>Saskylakh</td>\n",
       "      <td>58</td>\n",
       "      <td>RU</td>\n",
       "      <td>1592502913</td>\n",
       "      <td>62</td>\n",
       "      <td>71.92</td>\n",
       "      <td>114.08</td>\n",
       "      <td>62.726</td>\n",
       "      <td>2.58</td>\n",
       "    </tr>\n",
       "    <tr>\n",
       "      <th>3</th>\n",
       "      <td>Baykit</td>\n",
       "      <td>63</td>\n",
       "      <td>RU</td>\n",
       "      <td>1592503158</td>\n",
       "      <td>62</td>\n",
       "      <td>61.67</td>\n",
       "      <td>96.37</td>\n",
       "      <td>54.788</td>\n",
       "      <td>1.57</td>\n",
       "    </tr>\n",
       "    <tr>\n",
       "      <th>4</th>\n",
       "      <td>Narsaq</td>\n",
       "      <td>75</td>\n",
       "      <td>GL</td>\n",
       "      <td>1592503174</td>\n",
       "      <td>70</td>\n",
       "      <td>60.92</td>\n",
       "      <td>-46.05</td>\n",
       "      <td>42.800</td>\n",
       "      <td>4.60</td>\n",
       "    </tr>\n",
       "    <tr>\n",
       "      <th>6</th>\n",
       "      <td>Scarborough</td>\n",
       "      <td>99</td>\n",
       "      <td>GB</td>\n",
       "      <td>1592503209</td>\n",
       "      <td>96</td>\n",
       "      <td>54.28</td>\n",
       "      <td>-0.40</td>\n",
       "      <td>57.002</td>\n",
       "      <td>0.45</td>\n",
       "    </tr>\n",
       "    <tr>\n",
       "      <th>7</th>\n",
       "      <td>Kampot</td>\n",
       "      <td>20</td>\n",
       "      <td>KH</td>\n",
       "      <td>1592503209</td>\n",
       "      <td>74</td>\n",
       "      <td>10.62</td>\n",
       "      <td>104.18</td>\n",
       "      <td>84.200</td>\n",
       "      <td>2.60</td>\n",
       "    </tr>\n",
       "  </tbody>\n",
       "</table>\n",
       "</div>"
      ],
      "text/plain": [
       "          City  Cloudiness Country        Date  Humidity  Latitude  Longitude  \\\n",
       "0    Saskylakh          58      RU  1592502913        62     71.92     114.08   \n",
       "3       Baykit          63      RU  1592503158        62     61.67      96.37   \n",
       "4       Narsaq          75      GL  1592503174        70     60.92     -46.05   \n",
       "6  Scarborough          99      GB  1592503209        96     54.28      -0.40   \n",
       "7       Kampot          20      KH  1592503209        74     10.62     104.18   \n",
       "\n",
       "   Max Temp  Wind Speed  \n",
       "0    62.726        2.58  \n",
       "3    54.788        1.57  \n",
       "4    42.800        4.60  \n",
       "6    57.002        0.45  \n",
       "7    84.200        2.60  "
      ]
     },
     "execution_count": 62,
     "metadata": {},
     "output_type": "execute_result"
    }
   ],
   "source": [
    "# Create Northern and Southern Hemisphere DataFrames\n",
    "\n",
    "northern_lat_df = city_df.loc[city_df[\"Latitude\"] >= 0,:]\n",
    "southern_lat_df = city_df.loc[city_df[\"Latitude\"] < 0,:]\n",
    "\n",
    "northern_lat_df.head()"
   ]
  },
  {
   "cell_type": "markdown",
   "metadata": {},
   "source": [
    "####  Northern Hemisphere - Max Temp vs. Latitude Linear Regression"
   ]
  },
  {
   "cell_type": "code",
   "execution_count": 64,
   "metadata": {},
   "outputs": [
    {
     "name": "stdout",
     "output_type": "stream",
     "text": [
      "The r-squared is: -0.7196086477461733\n"
     ]
    },
    {
     "data": {
      "image/png": "[encoded data removed]",
      "text/plain": [
       "<Figure size 432x288 with 1 Axes>"
      ]
     },
     "metadata": {
      "needs_background": "light"
     },
     "output_type": "display_data"
    }
   ],
   "source": [
    "x_values = northern_lat_df[\"Latitude\"]\n",
    "y_values = northern_lat_df[\"Max Temp\"]\n",
    "plot_linear_regression(x_values,y_values,'Max Temp',(6,30))\n",
    "\n",
    "print(\"The r value shows a strong negative correlation between latitude and max temperature for the northern hemisphere.\")"
   ]
  },
  {
   "cell_type": "markdown",
   "metadata": {},
   "source": [
    "####  Southern Hemisphere - Max Temp vs. Latitude Linear Regression"
   ]
  },
  {
   "cell_type": "code",
   "execution_count": 66,
   "metadata": {},
   "outputs": [
    {
     "name": "stdout",
     "output_type": "stream",
     "text": [
      "The r-squared is: 0.7899902728165762\n"
     ]
    },
    {
     "data": {
      "image/png": "[encoded data removed]",
      "text/plain": [
       "<Figure size 432x288 with 1 Axes>"
      ]
     },
     "metadata": {
      "needs_background": "light"
     },
     "output_type": "display_data"
    }
   ],
   "source": [
    "x_values = southern_lat_df[\"Latitude\"]\n",
    "y_values = southern_lat_df[\"Max Temp\"]\n",
    "plot_linear_regression(x_values,y_values,'Max Temp',(6,30))\n",
    "\n",
    "print(\"The r value shows a strong positive correlation between latitude and max temperature for the southern hemisphere.\")"
   ]
  },
  {
   "cell_type": "markdown",
   "metadata": {},
   "source": [
    "####  Northern Hemisphere - Humidity (%) vs. Latitude Linear Regression"
   ]
  },
  {
   "cell_type": "code",
   "execution_count": 68,
   "metadata": {},
   "outputs": [
    {
     "name": "stdout",
     "output_type": "stream",
     "text": [
      "The r-squared is: 0.05157601222425509\n"
     ]
    },
    {
     "data": {
      "image/png": "[encoded data removed]",
      "text/plain": [
       "<Figure size 432x288 with 1 Axes>"
      ]
     },
     "metadata": {
      "needs_background": "light"
     },
     "output_type": "display_data"
    },
    {
     "name": "stdout",
     "output_type": "stream",
     "text": [
      "The r value shows a weak positive correlation between latitude and humidity for the northern hemisphere.\n"
     ]
    }
   ],
   "source": [
    "x_values = northern_lat_df[\"Latitude\"]\n",
    "y_values = northern_lat_df[\"Humidity\"]\n",
    "plot_linear_regression(x_values,y_values,'Humidity',(6,30))\n",
    "\n",
    "print(\"The r value shows a weak positive correlation between latitude and humidity for the northern hemisphere.\")"
   ]
  },
  {
   "cell_type": "markdown",
   "metadata": {},
   "source": [
    "####  Southern Hemisphere - Humidity (%) vs. Latitude Linear Regression"
   ]
  },
  {
   "cell_type": "code",
   "execution_count": 70,
   "metadata": {},
   "outputs": [
    {
     "name": "stdout",
     "output_type": "stream",
     "text": [
      "The r-squared is: -0.033872536476694665\n"
     ]
    },
    {
     "data": {
      "image/png": "[encoded data removed]",
      "text/plain": [
       "<Figure size 432x288 with 1 Axes>"
      ]
     },
     "metadata": {
      "needs_background": "light"
     },
     "output_type": "display_data"
    },
    {
     "name": "stdout",
     "output_type": "stream",
     "text": [
      "The r value shows a weak negative correlation between latitude and humidity for the southern hemisphere.\n"
     ]
    }
   ],
   "source": [
    "x_values = southern_lat_df[\"Latitude\"]\n",
    "y_values = southern_lat_df[\"Humidity\"]\n",
    "plot_linear_regression(x_values,y_values,'Humidity',(6,30))\n",
    "\n",
    "print(\"The r value shows a weak negative correlation between latitude and humidity for the southern hemisphere.\")"
   ]
  },
  {
   "cell_type": "markdown",
   "metadata": {},
   "source": [
    "####  Northern Hemisphere - Cloudiness (%) vs. Latitude Linear Regression"
   ]
  },
  {
   "cell_type": "code",
   "execution_count": 74,
   "metadata": {},
   "outputs": [
    {
     "name": "stdout",
     "output_type": "stream",
     "text": [
      "The r-squared is: -0.05939743871948242\n"
     ]
    },
    {
     "data": {
      "image/png": "[encoded data removed]",
      "text/plain": [
       "<Figure size 432x288 with 1 Axes>"
      ]
     },
     "metadata": {
      "needs_background": "light"
     },
     "output_type": "display_data"
    },
    {
     "name": "stdout",
     "output_type": "stream",
     "text": [
      "The r value shows a weak negative correlation between cloudiness and latitude for the northern hemisphere.\n"
     ]
    }
   ],
   "source": [
    "x_values = northern_lat_df[\"Latitude\"]\n",
    "y_values = northern_lat_df[\"Cloudiness\"]\n",
    "plot_linear_regression(x_values,y_values,'Cloudiness',(6,30))\n",
    "\n",
    "print(\"The r value shows a weak negative correlation between cloudiness and latitude for the northern hemisphere.\")"
   ]
  },
  {
   "cell_type": "markdown",
   "metadata": {},
   "source": [
    "####  Southern Hemisphere - Cloudiness (%) vs. Latitude Linear Regression"
   ]
  },
  {
   "cell_type": "code",
   "execution_count": 76,
   "metadata": {},
   "outputs": [
    {
     "name": "stdout",
     "output_type": "stream",
     "text": [
      "The r-squared is: 0.00753359257752051\n"
     ]
    },
    {
     "data": {
      "image/png": "[encoded data removed]",
      "text/plain": [
       "<Figure size 432x288 with 1 Axes>"
      ]
     },
     "metadata": {
      "needs_background": "light"
     },
     "output_type": "display_data"
    },
    {
     "name": "stdout",
     "output_type": "stream",
     "text": [
      "The r value shows a weak to no relationship between latitude and humidity for the southern hemisphere.\n"
     ]
    }
   ],
   "source": [
    "x_values = southern_lat_df[\"Latitude\"]\n",
    "y_values = southern_lat_df[\"Cloudiness\"]\n",
    "plot_linear_regression(x_values,y_values,'Cloudiness',(6,30))\n",
    "\n",
    "print(\"The r value shows a weak to no relationship between latitude and humidity for the southern hemisphere.\")"
   ]
  },
  {
   "cell_type": "markdown",
   "metadata": {},
   "source": [
    "####  Northern Hemisphere - Wind Speed (mph) vs. Latitude Linear Regression"
   ]
  },
  {
   "cell_type": "code",
   "execution_count": 81,
   "metadata": {},
   "outputs": [
    {
     "name": "stdout",
     "output_type": "stream",
     "text": [
      "The r-squared is: -0.07952393612942865\n"
     ]
    },
    {
     "data": {
      "image/png": "[encoded data removed]",
      "text/plain": [
       "<Figure size 432x288 with 1 Axes>"
      ]
     },
     "metadata": {
      "needs_background": "light"
     },
     "output_type": "display_data"
    },
    {
     "name": "stdout",
     "output_type": "stream",
     "text": [
      "The r value shows a very weak negative relationship between wind speed and latitude for the northern hemisphere.\n"
     ]
    }
   ],
   "source": [
    "x_values = northern_lat_df[\"Latitude\"]\n",
    "y_values = northern_lat_df[\"Wind Speed\"]\n",
    "plot_linear_regression(x_values,y_values,'Wind Speed',(6,30))\n",
    "\n",
    "print(\"The r value shows a very weak negative relationship between wind speed and latitude for the northern hemisphere.\")"
   ]
  },
  {
   "cell_type": "markdown",
   "metadata": {},
   "source": [
    "####  Southern Hemisphere - Wind Speed (mph) vs. Latitude Linear Regression"
   ]
  },
  {
   "cell_type": "code",
   "execution_count": 82,
   "metadata": {},
   "outputs": [
    {
     "name": "stdout",
     "output_type": "stream",
     "text": [
      "The r-squared is: -0.14435245306960343\n"
     ]
    },
    {
     "data": {
      "image/png": "[encoded data removed]",
      "text/plain": [
       "<Figure size 432x288 with 1 Axes>"
      ]
     },
     "metadata": {
      "needs_background": "light"
     },
     "output_type": "display_data"
    },
    {
     "name": "stdout",
     "output_type": "stream",
     "text": [
      "The r value shows a very weak negative relationship between wind speed and latitude for the southern hemisphere.\n"
     ]
    }
   ],
   "source": [
    "x_values = southern_lat_df[\"Latitude\"]\n",
    "y_values = southern_lat_df[\"Wind Speed\"]\n",
    "plot_linear_regression(x_values,y_values,'Wind Speed',(6,30))\n",
    "\n",
    "print(\"The r value shows a very weak negative relationship between wind speed and latitude for the southern hemisphere.\")"
   ]
  },
  {
   "cell_type": "code",
   "execution_count": null,
   "metadata": {},
   "outputs": [],
   "source": []
  },
  {
   "cell_type": "code",
   "execution_count": null,
   "metadata": {},
   "outputs": [],
   "source": []
  },
  {
   "cell_type": "code",
   "execution_count": null,
   "metadata": {},
   "outputs": [],
   "source": []
  },
  {
   "cell_type": "code",
   "execution_count": null,
   "metadata": {},
   "outputs": [],
   "source": []
  }
 ],
 "metadata": {
  "anaconda-cloud": {},
  "kernel_info": {
   "name": "python3"
  },
  "kernelspec": {
   "display_name": "Python 3",
   "language": "python",
   "name": "python3"
  },
  "language_info": {
   "codemirror_mode": {
    "name": "ipython",
    "version": 3
   },
   "file_extension": ".py",
   "mimetype": "text/x-python",
   "name": "python",
   "nbconvert_exporter": "python",
   "pygments_lexer": "ipython3",
   "version": "3.7.6"
  },
  "latex_envs": {
   "LaTeX_envs_menu_present": true,
   "autoclose": false,
   "autocomplete": true,
   "bibliofile": "biblio.bib",
   "cite_by": "apalike",
   "current_citInitial": 1,
   "eqLabelWithNumbers": true,
   "eqNumInitial": 1,
   "hotkeys": {
    "equation": "Ctrl-E",
    "itemize": "Ctrl-I"
   },
   "labels_anchors": false,
   "latex_user_defs": false,
   "report_style_numbering": false,
   "user_envs_cfg": false
  },
  "nteract": {
   "version": "0.12.3"
  }
 },
 "nbformat": 4,
 "nbformat_minor": 2
}
